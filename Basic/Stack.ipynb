{
 "cells": [
  {
   "cell_type": "markdown",
   "id": "beea96af",
   "metadata": {},
   "source": [
    "### 기본 개념 \n",
    "- 선형 자료구조 (자료 간 관계가 `1:1`)\n",
    "\n",
    "### Stack  구현 \n",
    "- 마지막에 삽입된 원소를 `top`이라고 부름 \n",
    "- `[-1]` 인덱스로 접근 \n",
    "\n",
    "### 주요 연산\n",
    "- **push**: 데이터를 스택에 삽입\n",
    "- **pop**: 가장 최근에 삽입된 데이터를 스택에서 제거 및 반환\n",
    "- **is_empty**: 스택이 비어 있는지 확인\n",
    "- **peek**: 스택의 맨 위(마지막) 원소를 확인만 (삭제하지 않음)"
   ]
  },
  {
   "cell_type": "code",
   "execution_count": 5,
   "id": "9dbc72c7",
   "metadata": {},
   "outputs": [
    {
     "name": "stdout",
     "output_type": "stream",
     "text": [
      "s: [10, 20]\n",
      "pop: 20\n",
      "peek: 10\n",
      "s: [10]\n"
     ]
    }
   ],
   "source": [
    "### 코드 구현 (함수 버전)\n",
    "\n",
    "s = []\n",
    "\n",
    "def push(item):\n",
    "    s.append(item)\n",
    "\n",
    "def pop():\n",
    "    if len(s) ==0:\n",
    "        return None # 없으면 pop 불가능 \n",
    "    else: \n",
    "        return s.pop() # 마지막 원소 반환 및 제거 \n",
    "\n",
    "def is_empty():\n",
    "    return len(s) ==0 # 스택이 비어있는 건 스택 리스트의 길이가 0인걸로 확인함 \n",
    "\n",
    "def peek():\n",
    "    if not is_empty(): # 스택이 비어있는 지 확인하는 반환 값은 불리언 값이므로 바로 if not 구문 사용 가능\n",
    "        return s[-1]   # 마지막에 not false 즉, True 이면 가장 마지막 값을 반환 \n",
    "    return None        # 비어 있으면 아무것도 반환하지 않음 \n",
    "\n",
    "push(10)\n",
    "push(20)\n",
    "print(f's: {s}')\n",
    "print(f'pop: {pop()}')\n",
    "print(f'peek: {peek()}')\n",
    "print(f's: {s}')"
   ]
  },
  {
   "cell_type": "code",
   "execution_count": null,
   "id": "92bccf35",
   "metadata": {},
   "outputs": [],
   "source": [
    "### 코드 구현 (클래스 버전)"
   ]
  },
  {
   "cell_type": "markdown",
   "id": "a36da57d",
   "metadata": {},
   "source": [
    "## Stack의 응용 - 괄호 검사 \n",
    "- 괄호 종류: 소괄호, 중괄호, 대괄호 \n",
    "\n",
    "### 검사 조건 \n",
    "- 왼쪽 괄호 개수 = 오른쪽 괄호 개수 \n",
    "- 같은 종류의 괄호에서 왼쪽이 오른쪽보다 먼저 나와야 함 \n",
    "- 괄호는 서로 포함 관계를 이룸 \n",
    "\n",
    "### 알고리즘 개요 \n",
    "- 문자열 왼쪽부터 오른쪽까지 순회 \n",
    "- 왼쪽 괄호를 만나면 `push`\n",
    "- 오른쪽 괄호를 만나면 `pop` 후 짝이 맞는지 확인 \n",
    "  - 도중에 스택이 비어있는데 오른쪽 괄호가 나오거나 짝이 맞지 않는 경우 실패 \n",
    "- 모든 문자를 처리한 후에도 스택이 비어있지 않다면 실패 \n",
    "- 그 외의 경우에는 성공 "
   ]
  },
  {
   "cell_type": "markdown",
   "id": "3311d8da",
   "metadata": {},
   "source": [
    "### [실습] 괄호 검사 문제 \n",
    "\n",
    "여러 종류의 괄호와 숫자가 섞인 문자열이 주어졌을 때 괄호 짝이 올바른지 검사하는 프로그램을 작성하세요.\n",
    "\n",
    "- 괄호는 반드시 여는 괄호 뒤에 그에 대응하는 닫는 괄호가 정확히 순서대로 나와야 합니다. \n",
    "- 문자열에 등장하는 숫자나 기타 문자들은 괄호 짝 검사에 영향을 주지 않습니다. \n",
    "- 짝이 맞으면 `1` 그렇지 않으면 `-1`을 출력합니다. "
   ]
  },
  {
   "cell_type": "code",
   "execution_count": null,
   "id": "dc938421",
   "metadata": {},
   "outputs": [],
   "source": [
    "### 해답 코드 \n",
    "\n",
    "import sys\n",
    "\n",
    "sys.stdin = open('input.txt')\n",
    "\n",
    "def check_brackets(string):\n",
    "    stack = []\n",
    "\n",
    "    for char in string:\n",
    "        if char in '([{':\n",
    "            stack.append(char)\n",
    "        \n",
    "        elif char in ')}]':\n",
    "            if len(stack) == 0: # pop하기 전에 스택 비어있는지 확인 (비어있으면 불일치)\n",
    "                return -1 \n",
    "        \n",
    "            top_char = stack.pop()\n",
    "\n",
    "            if char == ')' and top_char != '(':\n",
    "                return -1\n",
    "            elif char == ']' and top_char != '[':\n",
    "                return -1\n",
    "            elif char == '}' and top_char != '{':\n",
    "                return -1\n",
    "        \n",
    "        else: \n",
    "            continue \n",
    "\n",
    "    if len(stack) == 0:\n",
    "        return 1\n",
    "    else: \n",
    "        return -1\n",
    "\n",
    "T = int(input().strip())\n",
    "for tc in range(1, T+1):\n",
    "    line = input().strip()\n",
    "    result = check_brackets(line)\n",
    "    print(f'#{tc} {result}')"
   ]
  },
  {
   "cell_type": "code",
   "execution_count": null,
   "id": "0df4fbec",
   "metadata": {},
   "outputs": [],
   "source": [
    "### 해답 코드 - 딕셔너리 활용\n",
    "\n",
    "import sys\n",
    "\n",
    "sys.stdin = open('input.txt')\n",
    "\n",
    "def check_brackets_mixed(string):\n",
    "\n",
    "    bracket_map = {')':'(', ']':'[', '}':'{'}\n",
    "\n",
    "    stack = []\n",
    "\n",
    "    for char in string:\n",
    "        if char in '([{':\n",
    "            stack.append(char)\n",
    "        elif char in ')]}':\n",
    "            if len(stack) == 0:\n",
    "                return -1\n",
    "            \n",
    "            top_char = stack.pop()\n",
    "            if bracket_map[char] != top_char:\n",
    "                return -1\n",
    "            \n",
    "        else: \n",
    "            continue\n",
    "    \n",
    "    if len(stack) == 0:\n",
    "        return 1\n",
    "    else:\n",
    "        return -1\n",
    "    \n",
    "T = int(input().strip())\n",
    "for tc in range(1, T+1):\n",
    "    line = input().strip()\n",
    "    result = check_brackets_mixed(line)\n",
    "    print(f'#{tc} {result}')"
   ]
  }
 ],
 "metadata": {
  "kernelspec": {
   "display_name": "Python 3",
   "language": "python",
   "name": "python3"
  },
  "language_info": {
   "codemirror_mode": {
    "name": "ipython",
    "version": 3
   },
   "file_extension": ".py",
   "mimetype": "text/x-python",
   "name": "python",
   "nbconvert_exporter": "python",
   "pygments_lexer": "ipython3",
   "version": "3.11.9"
  }
 },
 "nbformat": 4,
 "nbformat_minor": 5
}
