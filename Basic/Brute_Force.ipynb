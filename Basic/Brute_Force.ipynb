{
 "cells": [
  {
   "cell_type": "markdown",
   "id": "8774ec5a",
   "metadata": {},
   "source": [
    "완전 탐색 \n",
    "\n",
    "텍스트 전체를 순회하며 패턴과 일치하는 부분을 하나씩 직접 비교\n",
    "\n",
    "**Brute Force** 방식은 텍스트의 각 위치마다 패턴과의 일치 여부를 전부 확인\n",
    "시간 복잡도는 $O(N×M)$(최악의 경우)이나, \n",
    "**단순하고 직관적**으로 구현 가능한 장점이 있음\n"
   ]
  },
  {
   "cell_type": "markdown",
   "id": "f8c2ce3b",
   "metadata": {},
   "source": [
    "코드 구현 \n",
    "\n",
    "- 패턴을 찾았다면 패턴이 등장하는 인덱스 반환 \n",
    "- 찾지 못했다면 -1 반환 "
   ]
  },
  {
   "cell_type": "code",
   "execution_count": 1,
   "id": "a0c344ae",
   "metadata": {},
   "outputs": [
    {
     "name": "stdout",
     "output_type": "stream",
     "text": [
      "28 5\n",
      "23\n"
     ]
    }
   ],
   "source": [
    "# WHILE문 구현 1\n",
    "\n",
    "# 전체 텍스트 \n",
    "t = 'A pattern matching algorithm'\n",
    "# 검색할 패턴 \n",
    "p = 'rithm'\n",
    "\n",
    "N = len(t) # 전체 텍스트 길이 \n",
    "M = len(p) # 찾을 패턴의 길이 \n",
    "\n",
    "def brute_force_while1(p, t):\n",
    "    \"\"\"\n",
    "    t[i]와 p[j]가 다를 경우, \n",
    "    i를 (현재 i-j)로 되돌린 뒤 j를 -1로 만들어 재정렬하는 방식 \n",
    "    음..?\n",
    "    \"\"\"\n",
    "    i = 0 # 텍스트 t의 인덱스 \n",
    "    j = 0 # 패턴 p의 인덱스 \n",
    "\n",
    "    while i < N and j < M:\n",
    "        if t[i] != p[j]:\n",
    "            # 불일치 시, 비교 시작 위치를 한 칸씩 앞으로 이동 \n",
    "            i = i - j \n",
    "            j = -1\n",
    "        i += 1\n",
    "        j += 1\n",
    "\n",
    "    if j == M:\n",
    "        return i - M\n",
    "    else: \n",
    "        return -1\n",
    "print(N, M)    \n",
    "print(brute_force_while1(p, t))"
   ]
  },
  {
   "cell_type": "code",
   "execution_count": 2,
   "id": "19ecc5ee",
   "metadata": {},
   "outputs": [
    {
     "name": "stdout",
     "output_type": "stream",
     "text": [
      "23\n"
     ]
    }
   ],
   "source": [
    "# WHILE문 구현 2\n",
    "\n",
    "# 전체 텍스트 \n",
    "t = 'A pattern matching algorithm'\n",
    "# 검색할 패턴 \n",
    "p = 'rithm'\n",
    "\n",
    "def brute_force_while2(p, t):\n",
    "    i = 0 \n",
    "    j = 0\n",
    "\n",
    "    while i < N and j < M:\n",
    "        if t[i] != p[j]:\n",
    "            i = i - j + 1 \n",
    "            j = 0 \n",
    "        else:\n",
    "            i += 1\n",
    "            j += 1\n",
    "    if j == M:\n",
    "        return i - j \n",
    "    else:\n",
    "        return -1\n",
    "    \n",
    "print(brute_force_while2(p, t))\n"
   ]
  },
  {
   "cell_type": "code",
   "execution_count": 5,
   "id": "739d4832",
   "metadata": {},
   "outputs": [
    {
     "name": "stdout",
     "output_type": "stream",
     "text": [
      "23\n"
     ]
    }
   ],
   "source": [
    "# FOR문 구현 \n",
    "t = 'A pattern matching algorithm'\n",
    "p = 'rithm'\n",
    "\n",
    "N = len(t)  # 전체 텍스트 길이\n",
    "M = len(p)  # 패턴 길이\n",
    "\n",
    "def brute_force_for(p, t):\n",
    "    '''\n",
    "    고지식한 알고리즘(Brute Force) - for문 구현\n",
    "    텍스트를 순회하며 패턴의 각 문자와 일치 여부를 확인\n",
    "    '''\n",
    "    N = len(t)\n",
    "    M = len(p)\n",
    "\n",
    "    # i: 텍스트에서 패턴이 시작될 수 있는 모든 위치를 순회\n",
    "    for i in range(N - M + 1):\n",
    "        cnt = 0\n",
    "        # j: 패턴 내부를 순회하며 매칭 확인\n",
    "        for j in range(M):\n",
    "            if t[i + j] == p[j]:\n",
    "                cnt += 1\n",
    "            else:\n",
    "                # 불일치 발생 시, 내부 반복 탈출\n",
    "                break\n",
    "\n",
    "        # cnt가 M과 같다면 패턴 전체가 일치\n",
    "        if cnt == M:\n",
    "            return i\n",
    "            \n",
    "    # 패턴을 찾지 못한 경우\n",
    "    return -1\n",
    "\n",
    "print(brute_force_for(p, t))"
   ]
  },
  {
   "cell_type": "code",
   "execution_count": 7,
   "id": "1d621116",
   "metadata": {},
   "outputs": [
    {
     "name": "stdout",
     "output_type": "stream",
     "text": [
      "'abc' 패턴은 'ababcabcababc'에서 총 3번 등장\n"
     ]
    }
   ],
   "source": [
    "# [응용] 패턴 등장 횟수 세기 \n",
    "def brute_force_while2_count(p, t):\n",
    "    '''\n",
    "    고지식한 문자열 검색(Brute Force) - while문(두 번째 버전)에\n",
    "    \"패턴이 몇 번 등장하는지\"를 세는 기능을 추가한 코드.\n",
    "\n",
    "    - p: 패턴\n",
    "    - t: 전체 텍스트\n",
    "    - 반환값: p가 t 내에서 몇 번 등장하는지 나타내는 정수\n",
    "    '''\n",
    "    N = len(t)\n",
    "    M = len(p)\n",
    "\n",
    "    i = 0  # 텍스트 t 인덱스\n",
    "    j = 0  # 패턴 p 인덱스\n",
    "    count = 0  # 패턴 등장 횟수 누적\n",
    "\n",
    "    # 텍스트 전체를 끝까지 순회\n",
    "    while i < N:\n",
    "        # 만약 문자가 일치하면\n",
    "        if j < M and t[i] == p[j]:\n",
    "            i += 1\n",
    "            j += 1\n",
    "            \n",
    "            # 패턴 전체를 매칭한 경우 (j == M)\n",
    "            if j == M:\n",
    "                count += 1          # 등장 횟수 증가\n",
    "                # 다음 위치로 진행 (겹치는 패턴도 검사 가능하도록)\n",
    "                # 가장 간단한 방식: 패턴 재시작 (j=0), 그리고 현재 i 위치에서 계속\n",
    "                j = 0  \n",
    "        else:\n",
    "            # 불일치 시\n",
    "            i = i - j + 1  # 시작 위치를 한 칸 뒤로\n",
    "            j = 0          # 패턴 인덱스 리셋\n",
    "\n",
    "    return count\n",
    "\n",
    "\n",
    "text = \"ababcabcababc\"\n",
    "pattern = \"abc\"\n",
    "\n",
    "result = brute_force_while2_count(pattern, text)\n",
    "print(f\"'{pattern}' 패턴은 '{text}'에서 총 {result}번 등장\")"
   ]
  }
 ],
 "metadata": {
  "kernelspec": {
   "display_name": "Python 3",
   "language": "python",
   "name": "python3"
  },
  "language_info": {
   "codemirror_mode": {
    "name": "ipython",
    "version": 3
   },
   "file_extension": ".py",
   "mimetype": "text/x-python",
   "name": "python",
   "nbconvert_exporter": "python",
   "pygments_lexer": "ipython3",
   "version": "3.11.9"
  }
 },
 "nbformat": 4,
 "nbformat_minor": 5
}
